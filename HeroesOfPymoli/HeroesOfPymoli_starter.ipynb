{
 "cells": [
  {
   "cell_type": "markdown",
   "metadata": {},
   "source": [
    "### Heroes Of Pymoli Data Analysis\n",
    "* Of the 1163 active players, the vast majority are male (84%). There also exists, a smaller, but notable proportion of female players (14%).\n",
    "\n",
    "* Our peak age demographic falls between 20-24 (44.8%) with secondary groups falling between 15-19 (18.60%) and 25-29 (13.4%).  \n",
    "-----"
   ]
  },
  {
   "cell_type": "markdown",
   "metadata": {},
   "source": [
    "### Note\n",
    "* Instructions have been included for each segment. You do not have to follow them exactly, but they are included to help you think through the steps."
   ]
  },
  {
   "cell_type": "code",
   "execution_count": 1,
   "metadata": {},
   "outputs": [
    {
     "data": {
      "text/html": [
       "<div>\n",
       "<style scoped>\n",
       "    .dataframe tbody tr th:only-of-type {\n",
       "        vertical-align: middle;\n",
       "    }\n",
       "\n",
       "    .dataframe tbody tr th {\n",
       "        vertical-align: top;\n",
       "    }\n",
       "\n",
       "    .dataframe thead th {\n",
       "        text-align: right;\n",
       "    }\n",
       "</style>\n",
       "<table border=\"1\" class=\"dataframe\">\n",
       "  <thead>\n",
       "    <tr style=\"text-align: right;\">\n",
       "      <th></th>\n",
       "      <th>Purchase ID</th>\n",
       "      <th>SN</th>\n",
       "      <th>Age</th>\n",
       "      <th>Gender</th>\n",
       "      <th>Item ID</th>\n",
       "      <th>Item Name</th>\n",
       "      <th>Price</th>\n",
       "    </tr>\n",
       "  </thead>\n",
       "  <tbody>\n",
       "    <tr>\n",
       "      <th>0</th>\n",
       "      <td>0</td>\n",
       "      <td>Lisim78</td>\n",
       "      <td>20</td>\n",
       "      <td>Male</td>\n",
       "      <td>108</td>\n",
       "      <td>Extraction, Quickblade Of Trembling Hands</td>\n",
       "      <td>3.53</td>\n",
       "    </tr>\n",
       "    <tr>\n",
       "      <th>1</th>\n",
       "      <td>1</td>\n",
       "      <td>Lisovynya38</td>\n",
       "      <td>40</td>\n",
       "      <td>Male</td>\n",
       "      <td>143</td>\n",
       "      <td>Frenzied Scimitar</td>\n",
       "      <td>1.56</td>\n",
       "    </tr>\n",
       "    <tr>\n",
       "      <th>2</th>\n",
       "      <td>2</td>\n",
       "      <td>Ithergue48</td>\n",
       "      <td>24</td>\n",
       "      <td>Male</td>\n",
       "      <td>92</td>\n",
       "      <td>Final Critic</td>\n",
       "      <td>4.88</td>\n",
       "    </tr>\n",
       "    <tr>\n",
       "      <th>3</th>\n",
       "      <td>3</td>\n",
       "      <td>Chamassasya86</td>\n",
       "      <td>24</td>\n",
       "      <td>Male</td>\n",
       "      <td>100</td>\n",
       "      <td>Blindscythe</td>\n",
       "      <td>3.27</td>\n",
       "    </tr>\n",
       "    <tr>\n",
       "      <th>4</th>\n",
       "      <td>4</td>\n",
       "      <td>Iskosia90</td>\n",
       "      <td>23</td>\n",
       "      <td>Male</td>\n",
       "      <td>131</td>\n",
       "      <td>Fury</td>\n",
       "      <td>1.44</td>\n",
       "    </tr>\n",
       "  </tbody>\n",
       "</table>\n",
       "</div>"
      ],
      "text/plain": [
       "   Purchase ID             SN  Age Gender  Item ID  \\\n",
       "0            0        Lisim78   20   Male      108   \n",
       "1            1    Lisovynya38   40   Male      143   \n",
       "2            2     Ithergue48   24   Male       92   \n",
       "3            3  Chamassasya86   24   Male      100   \n",
       "4            4      Iskosia90   23   Male      131   \n",
       "\n",
       "                                   Item Name  Price  \n",
       "0  Extraction, Quickblade Of Trembling Hands   3.53  \n",
       "1                          Frenzied Scimitar   1.56  \n",
       "2                               Final Critic   4.88  \n",
       "3                                Blindscythe   3.27  \n",
       "4                                       Fury   1.44  "
      ]
     },
     "execution_count": 1,
     "metadata": {},
     "output_type": "execute_result"
    }
   ],
   "source": [
    "# Dependencies and Setup\n",
    "import pandas as pd\n",
    "import numpy as np\n",
    "\n",
    "# File to Load (Remember to Change These)\n",
    "file_to_load = \"Resources/purchase_data.csv\"\n",
    "\n",
    "# Read Purchasing File and store into Pandas data frame\n",
    "purchase_data = pd.read_csv(file_to_load)\n",
    "purchase_data.head()"
   ]
  },
  {
   "cell_type": "markdown",
   "metadata": {},
   "source": [
    "## Player Count"
   ]
  },
  {
   "cell_type": "markdown",
   "metadata": {},
   "source": [
    "* Display the total number of players\n"
   ]
  },
  {
   "cell_type": "code",
   "execution_count": 2,
   "metadata": {},
   "outputs": [
    {
     "data": {
      "text/html": [
       "<div>\n",
       "<style scoped>\n",
       "    .dataframe tbody tr th:only-of-type {\n",
       "        vertical-align: middle;\n",
       "    }\n",
       "\n",
       "    .dataframe tbody tr th {\n",
       "        vertical-align: top;\n",
       "    }\n",
       "\n",
       "    .dataframe thead th {\n",
       "        text-align: right;\n",
       "    }\n",
       "</style>\n",
       "<table border=\"1\" class=\"dataframe\">\n",
       "  <thead>\n",
       "    <tr style=\"text-align: right;\">\n",
       "      <th></th>\n",
       "      <th>Total Players</th>\n",
       "    </tr>\n",
       "  </thead>\n",
       "  <tbody>\n",
       "    <tr>\n",
       "      <th>0</th>\n",
       "      <td>576</td>\n",
       "    </tr>\n",
       "  </tbody>\n",
       "</table>\n",
       "</div>"
      ],
      "text/plain": [
       "   Total Players\n",
       "0            576"
      ]
     },
     "execution_count": 2,
     "metadata": {},
     "output_type": "execute_result"
    }
   ],
   "source": [
    "#first check the unique players \n",
    "Total = len(purchase_data['SN'].unique().tolist())\n",
    "#create new dictionary\n",
    "players_dict = {\"Total Players\" : Total}\n",
    "players_dict\n",
    "#create new dataframe\n",
    "players_df = pd.DataFrame([players_dict])\n",
    "players_df\n",
    "\n",
    "\n"
   ]
  },
  {
   "cell_type": "markdown",
   "metadata": {},
   "source": [
    "## Purchasing Analysis (Total)"
   ]
  },
  {
   "cell_type": "markdown",
   "metadata": {},
   "source": [
    "* Run basic calculations to obtain number of unique items, average price, etc.\n",
    "\n",
    "\n",
    "* Create a summary data frame to hold the results\n",
    "\n",
    "\n",
    "* Optional: give the displayed data cleaner formatting\n",
    "\n",
    "\n",
    "* Display the summary data frame\n"
   ]
  },
  {
   "cell_type": "code",
   "execution_count": 3,
   "metadata": {
    "scrolled": true
   },
   "outputs": [
    {
     "data": {
      "text/html": [
       "<div>\n",
       "<style scoped>\n",
       "    .dataframe tbody tr th:only-of-type {\n",
       "        vertical-align: middle;\n",
       "    }\n",
       "\n",
       "    .dataframe tbody tr th {\n",
       "        vertical-align: top;\n",
       "    }\n",
       "\n",
       "    .dataframe thead th {\n",
       "        text-align: right;\n",
       "    }\n",
       "</style>\n",
       "<table border=\"1\" class=\"dataframe\">\n",
       "  <thead>\n",
       "    <tr style=\"text-align: right;\">\n",
       "      <th></th>\n",
       "      <th>Average Price</th>\n",
       "      <th>Number of Purchases</th>\n",
       "      <th>Number of Unique Items</th>\n",
       "      <th>Total Revenue</th>\n",
       "    </tr>\n",
       "  </thead>\n",
       "  <tbody>\n",
       "    <tr>\n",
       "      <th>0</th>\n",
       "      <td>$3.05</td>\n",
       "      <td>780</td>\n",
       "      <td>183</td>\n",
       "      <td>$2,379.77</td>\n",
       "    </tr>\n",
       "  </tbody>\n",
       "</table>\n",
       "</div>"
      ],
      "text/plain": [
       "   Average Price  Number of Purchases  Number of Unique Items  Total Revenue\n",
       "0          $3.05                  780                     183      $2,379.77"
      ]
     },
     "execution_count": 3,
     "metadata": {},
     "output_type": "execute_result"
    }
   ],
   "source": [
    "#basic calculations\n",
    "avg = purchase_data['Item ID'].nunique()\n",
    "avg_price = purchase_data['Price'].mean()\n",
    "num_purchases = purchase_data['Purchase ID'].count()\n",
    "total_revenue = purchase_data['Price'].sum()\n",
    "\n",
    "#make new dictionary\n",
    "purchasing_analysis_dict = {\"Number of Unique Items\" : avg, \"Average Price\" : avg_price, \"Number of Purchases\" : num_purchases,\"Total Revenue\" : total_revenue}\n",
    "purchasing_analysis_dict\n",
    "\n",
    "#make new dataframe\n",
    "analysis_df = pd.DataFrame([purchasing_analysis_dict])\n",
    "pd.options.display.float_format = '${:,.2f}'.format\n",
    "analysis_df\n"
   ]
  },
  {
   "cell_type": "markdown",
   "metadata": {},
   "source": [
    "## Gender Demographics"
   ]
  },
  {
   "cell_type": "markdown",
   "metadata": {},
   "source": [
    "* Percentage and Count of Male Players\n",
    "\n",
    "\n",
    "* Percentage and Count of Female Players\n",
    "\n",
    "\n",
    "* Percentage and Count of Other / Non-Disclosed\n",
    "\n",
    "\n"
   ]
  },
  {
   "cell_type": "code",
   "execution_count": 4,
   "metadata": {},
   "outputs": [
    {
     "data": {
      "text/html": [
       "<div>\n",
       "<style scoped>\n",
       "    .dataframe tbody tr th:only-of-type {\n",
       "        vertical-align: middle;\n",
       "    }\n",
       "\n",
       "    .dataframe tbody tr th {\n",
       "        vertical-align: top;\n",
       "    }\n",
       "\n",
       "    .dataframe thead th {\n",
       "        text-align: right;\n",
       "    }\n",
       "</style>\n",
       "<table border=\"1\" class=\"dataframe\">\n",
       "  <thead>\n",
       "    <tr style=\"text-align: right;\">\n",
       "      <th></th>\n",
       "      <th>Total Count</th>\n",
       "      <th>Percentage of players</th>\n",
       "    </tr>\n",
       "  </thead>\n",
       "  <tbody>\n",
       "    <tr>\n",
       "      <th>Female</th>\n",
       "      <td>81</td>\n",
       "      <td>14.06</td>\n",
       "    </tr>\n",
       "    <tr>\n",
       "      <th>Male</th>\n",
       "      <td>484</td>\n",
       "      <td>84.03</td>\n",
       "    </tr>\n",
       "    <tr>\n",
       "      <th>Other / Non-Disclosed</th>\n",
       "      <td>11</td>\n",
       "      <td>1.91</td>\n",
       "    </tr>\n",
       "  </tbody>\n",
       "</table>\n",
       "</div>"
      ],
      "text/plain": [
       "                       Total Count  Percentage of players\n",
       "Female                          81                  14.06\n",
       "Male                           484                  84.03\n",
       "Other / Non-Disclosed           11                   1.91"
      ]
     },
     "execution_count": 4,
     "metadata": {},
     "output_type": "execute_result"
    }
   ],
   "source": [
    "# drop all rows of duplicate players and store in new df\n",
    "gender_df = pd.DataFrame(purchase_data.drop_duplicates([\"SN\"]))\n",
    "gender_df.head()\n",
    "#group the new df by gender to allow for easier manipulation, find total and percentages\n",
    "grouped = gender_df.groupby('Gender')\n",
    "total_count = grouped[\"Gender\"].count()\n",
    "percentages_gender = grouped[\"Gender\"].count()/Total*100\n",
    "\n",
    "#make new df\n",
    "gender_stats_df = pd.DataFrame({\"Total Count\":total_count,\"Percentage of players\":percentages_gender})\n",
    "\n",
    "# format to remove index name in the corner\n",
    "gender_stats_df.index.name = None\n",
    "\n",
    "# format sorted by total count, and two decimal places for the percentage\n",
    "gender_stats_df.sort_values([\"Total Count\"])\n",
    "pd.options.display.float_format = '{:,.2f}'.format\n",
    "\n",
    "gender_stats_df.head()\n",
    "\n",
    " \n"
   ]
  },
  {
   "cell_type": "markdown",
   "metadata": {},
   "source": [
    "\n",
    "## Purchasing Analysis (Gender)"
   ]
  },
  {
   "cell_type": "markdown",
   "metadata": {},
   "source": [
    "* Run basic calculations to obtain purchase count, avg. purchase price, avg. purchase total per person etc. by gender\n",
    "\n",
    "\n",
    "\n",
    "\n",
    "* Create a summary data frame to hold the results\n",
    "\n",
    "\n",
    "* Optional: give the displayed data cleaner formatting\n",
    "\n",
    "\n",
    "* Display the summary data frame"
   ]
  },
  {
   "cell_type": "code",
   "execution_count": 5,
   "metadata": {},
   "outputs": [
    {
     "data": {
      "text/html": [
       "<style  type=\"text/css\" >\n",
       "</style>  \n",
       "<table id=\"T_56cf7124_9384_11e9_b444_d3b7196cd018\" > \n",
       "<thead>    <tr> \n",
       "        <th class=\"blank level0\" ></th> \n",
       "        <th class=\"col_heading level0 col0\" >Purchase Count</th> \n",
       "        <th class=\"col_heading level0 col1\" >Average Purchase Price</th> \n",
       "        <th class=\"col_heading level0 col2\" >Average Purchase Value</th> \n",
       "        <th class=\"col_heading level0 col3\" >Avg Purchase Total per Person</th> \n",
       "    </tr>    <tr> \n",
       "        <th class=\"index_name level0\" >Gender</th> \n",
       "        <th class=\"blank\" ></th> \n",
       "        <th class=\"blank\" ></th> \n",
       "        <th class=\"blank\" ></th> \n",
       "        <th class=\"blank\" ></th> \n",
       "    </tr></thead> \n",
       "<tbody>    <tr> \n",
       "        <th id=\"T_56cf7124_9384_11e9_b444_d3b7196cd018level0_row0\" class=\"row_heading level0 row0\" >Female</th> \n",
       "        <td id=\"T_56cf7124_9384_11e9_b444_d3b7196cd018row0_col0\" class=\"data row0 col0\" >113</td> \n",
       "        <td id=\"T_56cf7124_9384_11e9_b444_d3b7196cd018row0_col1\" class=\"data row0 col1\" >$3.20</td> \n",
       "        <td id=\"T_56cf7124_9384_11e9_b444_d3b7196cd018row0_col2\" class=\"data row0 col2\" >$361.94</td> \n",
       "        <td id=\"T_56cf7124_9384_11e9_b444_d3b7196cd018row0_col3\" class=\"data row0 col3\" >$4.47</td> \n",
       "    </tr>    <tr> \n",
       "        <th id=\"T_56cf7124_9384_11e9_b444_d3b7196cd018level0_row1\" class=\"row_heading level0 row1\" >Male</th> \n",
       "        <td id=\"T_56cf7124_9384_11e9_b444_d3b7196cd018row1_col0\" class=\"data row1 col0\" >652</td> \n",
       "        <td id=\"T_56cf7124_9384_11e9_b444_d3b7196cd018row1_col1\" class=\"data row1 col1\" >$3.02</td> \n",
       "        <td id=\"T_56cf7124_9384_11e9_b444_d3b7196cd018row1_col2\" class=\"data row1 col2\" >$1,967.64</td> \n",
       "        <td id=\"T_56cf7124_9384_11e9_b444_d3b7196cd018row1_col3\" class=\"data row1 col3\" >$4.07</td> \n",
       "    </tr>    <tr> \n",
       "        <th id=\"T_56cf7124_9384_11e9_b444_d3b7196cd018level0_row2\" class=\"row_heading level0 row2\" >Other / Non-Disclosed</th> \n",
       "        <td id=\"T_56cf7124_9384_11e9_b444_d3b7196cd018row2_col0\" class=\"data row2 col0\" >15</td> \n",
       "        <td id=\"T_56cf7124_9384_11e9_b444_d3b7196cd018row2_col1\" class=\"data row2 col1\" >$3.35</td> \n",
       "        <td id=\"T_56cf7124_9384_11e9_b444_d3b7196cd018row2_col2\" class=\"data row2 col2\" >$50.19</td> \n",
       "        <td id=\"T_56cf7124_9384_11e9_b444_d3b7196cd018row2_col3\" class=\"data row2 col3\" >$4.56</td> \n",
       "    </tr></tbody> \n",
       "</table> "
      ],
      "text/plain": [
       "<pandas.io.formats.style.Styler at 0x13ac3ff7b00>"
      ]
     },
     "execution_count": 5,
     "metadata": {},
     "output_type": "execute_result"
    }
   ],
   "source": [
    "#group puchase data by gender\n",
    "purchase_gender = purchase_data.groupby('Gender')\n",
    "\n",
    "#calculations\n",
    "purchase_count_gender = purchase_gender['Purchase ID'].count()\n",
    "avg_pur_gender = purchase_gender['Price'].mean()\n",
    "total_pur_gender = purchase_gender['Price'].sum()\n",
    "avg_pp_gender = total_pur_gender/total_count\n",
    "\n",
    "#create new df\n",
    "gender_purchasing = pd.DataFrame({\"Purchase Count\": purchase_count_gender, \n",
    "                                    \"Average Purchase Price\": avg_pur_gender,\n",
    "                                    \"Average Purchase Value\":total_pur_gender,\n",
    "                                    \"Avg Purchase Total per Person\": avg_pp_gender})\n",
    "\n",
    "#format to show index as gender\n",
    "gender_purchasing.index.name = \"Gender\"\n",
    "\n",
    "#format for the dollar sign\n",
    "gender_purchasing.style.format({\"Average Purchase Value\":\"${:,.2f}\",\n",
    "                                  \"Average Purchase Price\":\"${:,.2f}\",\n",
    "                                  \"Avg Purchase Total per Person\":\"${:,.2f}\"})"
   ]
  },
  {
   "cell_type": "markdown",
   "metadata": {},
   "source": [
    "## Age Demographics"
   ]
  },
  {
   "cell_type": "markdown",
   "metadata": {},
   "source": [
    "* Establish bins for ages\n",
    "\n",
    "\n",
    "* Categorize the existing players using the age bins. Hint: use pd.cut()\n",
    "\n",
    "\n",
    "* Calculate the numbers and percentages by age group\n",
    "\n",
    "\n",
    "* Create a summary data frame to hold the results\n",
    "\n",
    "\n",
    "* Optional: round the percentage column to two decimal points\n",
    "\n",
    "\n",
    "* Display Age Demographics Table\n"
   ]
  },
  {
   "cell_type": "code",
   "execution_count": 6,
   "metadata": {},
   "outputs": [
    {
     "data": {
      "text/html": [
       "<style  type=\"text/css\" >\n",
       "</style>  \n",
       "<table id=\"T_56d373f8_9384_11e9_b186_d3b7196cd018\" > \n",
       "<thead>    <tr> \n",
       "        <th class=\"blank level0\" ></th> \n",
       "        <th class=\"col_heading level0 col0\" >Total Count</th> \n",
       "        <th class=\"col_heading level0 col1\" >Percentage of Players</th> \n",
       "    </tr></thead> \n",
       "<tbody>    <tr> \n",
       "        <th id=\"T_56d373f8_9384_11e9_b186_d3b7196cd018level0_row0\" class=\"row_heading level0 row0\" ><10</th> \n",
       "        <td id=\"T_56d373f8_9384_11e9_b186_d3b7196cd018row0_col0\" class=\"data row0 col0\" >17</td> \n",
       "        <td id=\"T_56d373f8_9384_11e9_b186_d3b7196cd018row0_col1\" class=\"data row0 col1\" >2.95</td> \n",
       "    </tr>    <tr> \n",
       "        <th id=\"T_56d373f8_9384_11e9_b186_d3b7196cd018level0_row1\" class=\"row_heading level0 row1\" >10-14</th> \n",
       "        <td id=\"T_56d373f8_9384_11e9_b186_d3b7196cd018row1_col0\" class=\"data row1 col0\" >22</td> \n",
       "        <td id=\"T_56d373f8_9384_11e9_b186_d3b7196cd018row1_col1\" class=\"data row1 col1\" >3.82</td> \n",
       "    </tr>    <tr> \n",
       "        <th id=\"T_56d373f8_9384_11e9_b186_d3b7196cd018level0_row2\" class=\"row_heading level0 row2\" >15-19</th> \n",
       "        <td id=\"T_56d373f8_9384_11e9_b186_d3b7196cd018row2_col0\" class=\"data row2 col0\" >107</td> \n",
       "        <td id=\"T_56d373f8_9384_11e9_b186_d3b7196cd018row2_col1\" class=\"data row2 col1\" >18.58</td> \n",
       "    </tr>    <tr> \n",
       "        <th id=\"T_56d373f8_9384_11e9_b186_d3b7196cd018level0_row3\" class=\"row_heading level0 row3\" >20-24</th> \n",
       "        <td id=\"T_56d373f8_9384_11e9_b186_d3b7196cd018row3_col0\" class=\"data row3 col0\" >258</td> \n",
       "        <td id=\"T_56d373f8_9384_11e9_b186_d3b7196cd018row3_col1\" class=\"data row3 col1\" >44.79</td> \n",
       "    </tr>    <tr> \n",
       "        <th id=\"T_56d373f8_9384_11e9_b186_d3b7196cd018level0_row4\" class=\"row_heading level0 row4\" >25-29</th> \n",
       "        <td id=\"T_56d373f8_9384_11e9_b186_d3b7196cd018row4_col0\" class=\"data row4 col0\" >77</td> \n",
       "        <td id=\"T_56d373f8_9384_11e9_b186_d3b7196cd018row4_col1\" class=\"data row4 col1\" >13.37</td> \n",
       "    </tr>    <tr> \n",
       "        <th id=\"T_56d373f8_9384_11e9_b186_d3b7196cd018level0_row5\" class=\"row_heading level0 row5\" >30-34</th> \n",
       "        <td id=\"T_56d373f8_9384_11e9_b186_d3b7196cd018row5_col0\" class=\"data row5 col0\" >52</td> \n",
       "        <td id=\"T_56d373f8_9384_11e9_b186_d3b7196cd018row5_col1\" class=\"data row5 col1\" >9.03</td> \n",
       "    </tr>    <tr> \n",
       "        <th id=\"T_56d373f8_9384_11e9_b186_d3b7196cd018level0_row6\" class=\"row_heading level0 row6\" >35-39</th> \n",
       "        <td id=\"T_56d373f8_9384_11e9_b186_d3b7196cd018row6_col0\" class=\"data row6 col0\" >31</td> \n",
       "        <td id=\"T_56d373f8_9384_11e9_b186_d3b7196cd018row6_col1\" class=\"data row6 col1\" >5.38</td> \n",
       "    </tr>    <tr> \n",
       "        <th id=\"T_56d373f8_9384_11e9_b186_d3b7196cd018level0_row7\" class=\"row_heading level0 row7\" >40+</th> \n",
       "        <td id=\"T_56d373f8_9384_11e9_b186_d3b7196cd018row7_col0\" class=\"data row7 col0\" >12</td> \n",
       "        <td id=\"T_56d373f8_9384_11e9_b186_d3b7196cd018row7_col1\" class=\"data row7 col1\" >2.08</td> \n",
       "    </tr></tbody> \n",
       "</table> "
      ],
      "text/plain": [
       "<pandas.io.formats.style.Styler at 0x13ac4d6e7f0>"
      ]
     },
     "execution_count": 6,
     "metadata": {},
     "output_type": "execute_result"
    }
   ],
   "source": [
    "#form bins and their labels\n",
    "bins = [0, 9.90, 14.90, 19.90, 24.90, 29.90, 34.90, 39.90, 99]\n",
    "group_names = [\"<10\",\"10-14\",\"15-19\",\"20-24\",\"25-29\",\"30-34\",\"35-39\",\"40+\"]\n",
    "\n",
    "#sort into bins\n",
    "purchase_data[\"Age Group\"] = pd.cut(purchase_data[\"Age\"],bins, labels=group_names)\n",
    "\n",
    "#new df to groupby age\n",
    "grouped_age = purchase_data.groupby(\"Age Group\")\n",
    "\n",
    "# total number of players by age\n",
    "players_total = grouped_age[\"SN\"].nunique()\n",
    "\n",
    "# percentages by age category \n",
    "percentage_age = (players_total/Total) * 100\n",
    "\n",
    "# Create data frame with obtained values\n",
    "age_demographics = pd.DataFrame({\"Total Count\": players_total,\"Percentage of Players\": percentage_age})\n",
    "\n",
    "# no index name in the corner\n",
    "age_demographics.index.name = None\n",
    "\n",
    "# format for two decimal places \n",
    "age_demographics.style.format({\"Percentage of Players\":\"{:,.2f}\"})\n"
   ]
  },
  {
   "cell_type": "markdown",
   "metadata": {},
   "source": [
    "## Purchasing Analysis (Age)"
   ]
  },
  {
   "cell_type": "markdown",
   "metadata": {},
   "source": [
    "* Bin the purchase_data data frame by age\n",
    "\n",
    "\n",
    "* Run basic calculations to obtain purchase count, avg. purchase price, avg. purchase total per person etc. in the table below\n",
    "\n",
    "\n",
    "* Create a summary data frame to hold the results\n",
    "\n",
    "\n",
    "* Optional: give the displayed data cleaner formatting\n",
    "\n",
    "\n",
    "* Display the summary data frame"
   ]
  },
  {
   "cell_type": "code",
   "execution_count": 7,
   "metadata": {},
   "outputs": [
    {
     "data": {
      "text/html": [
       "<style  type=\"text/css\" >\n",
       "</style>  \n",
       "<table id=\"T_56d715fa_9384_11e9_8eea_d3b7196cd018\" > \n",
       "<thead>    <tr> \n",
       "        <th class=\"blank level0\" ></th> \n",
       "        <th class=\"col_heading level0 col0\" >Purchase Count</th> \n",
       "        <th class=\"col_heading level0 col1\" >Average Purchase Price</th> \n",
       "        <th class=\"col_heading level0 col2\" >Total Purchase Value</th> \n",
       "        <th class=\"col_heading level0 col3\" >Average Purchase Total per Person</th> \n",
       "    </tr></thead> \n",
       "<tbody>    <tr> \n",
       "        <th id=\"T_56d715fa_9384_11e9_8eea_d3b7196cd018level0_row0\" class=\"row_heading level0 row0\" >10-14</th> \n",
       "        <td id=\"T_56d715fa_9384_11e9_8eea_d3b7196cd018row0_col0\" class=\"data row0 col0\" >28</td> \n",
       "        <td id=\"T_56d715fa_9384_11e9_8eea_d3b7196cd018row0_col1\" class=\"data row0 col1\" >$2.96</td> \n",
       "        <td id=\"T_56d715fa_9384_11e9_8eea_d3b7196cd018row0_col2\" class=\"data row0 col2\" >$82.78</td> \n",
       "        <td id=\"T_56d715fa_9384_11e9_8eea_d3b7196cd018row0_col3\" class=\"data row0 col3\" >$3.76</td> \n",
       "    </tr>    <tr> \n",
       "        <th id=\"T_56d715fa_9384_11e9_8eea_d3b7196cd018level0_row1\" class=\"row_heading level0 row1\" >15-19</th> \n",
       "        <td id=\"T_56d715fa_9384_11e9_8eea_d3b7196cd018row1_col0\" class=\"data row1 col0\" >136</td> \n",
       "        <td id=\"T_56d715fa_9384_11e9_8eea_d3b7196cd018row1_col1\" class=\"data row1 col1\" >$3.04</td> \n",
       "        <td id=\"T_56d715fa_9384_11e9_8eea_d3b7196cd018row1_col2\" class=\"data row1 col2\" >$412.89</td> \n",
       "        <td id=\"T_56d715fa_9384_11e9_8eea_d3b7196cd018row1_col3\" class=\"data row1 col3\" >$3.86</td> \n",
       "    </tr>    <tr> \n",
       "        <th id=\"T_56d715fa_9384_11e9_8eea_d3b7196cd018level0_row2\" class=\"row_heading level0 row2\" >20-24</th> \n",
       "        <td id=\"T_56d715fa_9384_11e9_8eea_d3b7196cd018row2_col0\" class=\"data row2 col0\" >365</td> \n",
       "        <td id=\"T_56d715fa_9384_11e9_8eea_d3b7196cd018row2_col1\" class=\"data row2 col1\" >$3.05</td> \n",
       "        <td id=\"T_56d715fa_9384_11e9_8eea_d3b7196cd018row2_col2\" class=\"data row2 col2\" >$1,114.06</td> \n",
       "        <td id=\"T_56d715fa_9384_11e9_8eea_d3b7196cd018row2_col3\" class=\"data row2 col3\" >$4.32</td> \n",
       "    </tr>    <tr> \n",
       "        <th id=\"T_56d715fa_9384_11e9_8eea_d3b7196cd018level0_row3\" class=\"row_heading level0 row3\" >25-29</th> \n",
       "        <td id=\"T_56d715fa_9384_11e9_8eea_d3b7196cd018row3_col0\" class=\"data row3 col0\" >101</td> \n",
       "        <td id=\"T_56d715fa_9384_11e9_8eea_d3b7196cd018row3_col1\" class=\"data row3 col1\" >$2.90</td> \n",
       "        <td id=\"T_56d715fa_9384_11e9_8eea_d3b7196cd018row3_col2\" class=\"data row3 col2\" >$293.00</td> \n",
       "        <td id=\"T_56d715fa_9384_11e9_8eea_d3b7196cd018row3_col3\" class=\"data row3 col3\" >$3.81</td> \n",
       "    </tr>    <tr> \n",
       "        <th id=\"T_56d715fa_9384_11e9_8eea_d3b7196cd018level0_row4\" class=\"row_heading level0 row4\" >30-34</th> \n",
       "        <td id=\"T_56d715fa_9384_11e9_8eea_d3b7196cd018row4_col0\" class=\"data row4 col0\" >73</td> \n",
       "        <td id=\"T_56d715fa_9384_11e9_8eea_d3b7196cd018row4_col1\" class=\"data row4 col1\" >$2.93</td> \n",
       "        <td id=\"T_56d715fa_9384_11e9_8eea_d3b7196cd018row4_col2\" class=\"data row4 col2\" >$214.00</td> \n",
       "        <td id=\"T_56d715fa_9384_11e9_8eea_d3b7196cd018row4_col3\" class=\"data row4 col3\" >$4.12</td> \n",
       "    </tr>    <tr> \n",
       "        <th id=\"T_56d715fa_9384_11e9_8eea_d3b7196cd018level0_row5\" class=\"row_heading level0 row5\" >35-39</th> \n",
       "        <td id=\"T_56d715fa_9384_11e9_8eea_d3b7196cd018row5_col0\" class=\"data row5 col0\" >41</td> \n",
       "        <td id=\"T_56d715fa_9384_11e9_8eea_d3b7196cd018row5_col1\" class=\"data row5 col1\" >$3.60</td> \n",
       "        <td id=\"T_56d715fa_9384_11e9_8eea_d3b7196cd018row5_col2\" class=\"data row5 col2\" >$147.67</td> \n",
       "        <td id=\"T_56d715fa_9384_11e9_8eea_d3b7196cd018row5_col3\" class=\"data row5 col3\" >$4.76</td> \n",
       "    </tr>    <tr> \n",
       "        <th id=\"T_56d715fa_9384_11e9_8eea_d3b7196cd018level0_row6\" class=\"row_heading level0 row6\" >40+</th> \n",
       "        <td id=\"T_56d715fa_9384_11e9_8eea_d3b7196cd018row6_col0\" class=\"data row6 col0\" >13</td> \n",
       "        <td id=\"T_56d715fa_9384_11e9_8eea_d3b7196cd018row6_col1\" class=\"data row6 col1\" >$2.94</td> \n",
       "        <td id=\"T_56d715fa_9384_11e9_8eea_d3b7196cd018row6_col2\" class=\"data row6 col2\" >$38.24</td> \n",
       "        <td id=\"T_56d715fa_9384_11e9_8eea_d3b7196cd018row6_col3\" class=\"data row6 col3\" >$3.19</td> \n",
       "    </tr></tbody> \n",
       "</table> "
      ],
      "text/plain": [
       "<pandas.io.formats.style.Styler at 0x13ac3da9a58>"
      ]
     },
     "execution_count": 7,
     "metadata": {},
     "output_type": "execute_result"
    }
   ],
   "source": [
    "# calculations by age group\n",
    "purchase_count = grouped_age[\"Purchase ID\"].count()\n",
    "avg_pur_price_age = grouped_age[\"Price\"].mean()\n",
    "total_purchase_value = grouped_age[\"Price\"].sum()\n",
    "avg_pp_age = total_purchase_value/players_total\n",
    "\n",
    "# new df\n",
    "age_calc = pd.DataFrame({\"Purchase Count\": purchase_count,\n",
    "                                 \"Average Purchase Price\": avg_pur_price_age,\n",
    "                                 \"Total Purchase Value\":total_purchase_value,\n",
    "                                 \"Average Purchase Total per Person\": avg_pp_age})\n",
    "#remove first row of <10 age\n",
    "age_calc = age_calc.iloc[1:]\n",
    "\n",
    "# no index name in the corner\n",
    "age_calc.index.name = None\n",
    "\n",
    "# format for $\n",
    "age_calc.style.format({\"Average Purchase Price\":\"${:,.2f}\",\n",
    "                               \"Total Purchase Value\":\"${:,.2f}\",\n",
    "                               \"Average Purchase Total per Person\":\"${:,.2f}\"})"
   ]
  },
  {
   "cell_type": "code",
   "execution_count": 8,
   "metadata": {},
   "outputs": [],
   "source": [
    "## Top Spenders"
   ]
  },
  {
   "cell_type": "markdown",
   "metadata": {},
   "source": [
    "* Run basic calculations to obtain the results in the table below\n",
    "\n",
    "\n",
    "* Create a summary data frame to hold the results\n",
    "\n",
    "\n",
    "* Sort the total purchase value column in descending order\n",
    "\n",
    "\n",
    "* Optional: give the displayed data cleaner formatting\n",
    "\n",
    "\n",
    "* Display a preview of the summary data frame\n",
    "\n"
   ]
  },
  {
   "cell_type": "code",
   "execution_count": 13,
   "metadata": {},
   "outputs": [
    {
     "data": {
      "text/html": [
       "<style  type=\"text/css\" >\n",
       "</style>  \n",
       "<table id=\"T_139912c2_9386_11e9_af42_d3b7196cd018\" > \n",
       "<thead>    <tr> \n",
       "        <th class=\"blank level0\" ></th> \n",
       "        <th class=\"col_heading level0 col0\" >Purchase Count</th> \n",
       "        <th class=\"col_heading level0 col1\" >Average Purchase Price</th> \n",
       "        <th class=\"col_heading level0 col2\" >Total Purchase Value</th> \n",
       "    </tr>    <tr> \n",
       "        <th class=\"index_name level0\" >SN</th> \n",
       "        <th class=\"blank\" ></th> \n",
       "        <th class=\"blank\" ></th> \n",
       "        <th class=\"blank\" ></th> \n",
       "    </tr></thead> \n",
       "<tbody>    <tr> \n",
       "        <th id=\"T_139912c2_9386_11e9_af42_d3b7196cd018level0_row0\" class=\"row_heading level0 row0\" >Lisosia93</th> \n",
       "        <td id=\"T_139912c2_9386_11e9_af42_d3b7196cd018row0_col0\" class=\"data row0 col0\" >5</td> \n",
       "        <td id=\"T_139912c2_9386_11e9_af42_d3b7196cd018row0_col1\" class=\"data row0 col1\" >$3.79</td> \n",
       "        <td id=\"T_139912c2_9386_11e9_af42_d3b7196cd018row0_col2\" class=\"data row0 col2\" >$18.96</td> \n",
       "    </tr>    <tr> \n",
       "        <th id=\"T_139912c2_9386_11e9_af42_d3b7196cd018level0_row1\" class=\"row_heading level0 row1\" >Idastidru52</th> \n",
       "        <td id=\"T_139912c2_9386_11e9_af42_d3b7196cd018row1_col0\" class=\"data row1 col0\" >4</td> \n",
       "        <td id=\"T_139912c2_9386_11e9_af42_d3b7196cd018row1_col1\" class=\"data row1 col1\" >$3.86</td> \n",
       "        <td id=\"T_139912c2_9386_11e9_af42_d3b7196cd018row1_col2\" class=\"data row1 col2\" >$15.45</td> \n",
       "    </tr>    <tr> \n",
       "        <th id=\"T_139912c2_9386_11e9_af42_d3b7196cd018level0_row2\" class=\"row_heading level0 row2\" >Chamjask73</th> \n",
       "        <td id=\"T_139912c2_9386_11e9_af42_d3b7196cd018row2_col0\" class=\"data row2 col0\" >3</td> \n",
       "        <td id=\"T_139912c2_9386_11e9_af42_d3b7196cd018row2_col1\" class=\"data row2 col1\" >$4.61</td> \n",
       "        <td id=\"T_139912c2_9386_11e9_af42_d3b7196cd018row2_col2\" class=\"data row2 col2\" >$13.83</td> \n",
       "    </tr>    <tr> \n",
       "        <th id=\"T_139912c2_9386_11e9_af42_d3b7196cd018level0_row3\" class=\"row_heading level0 row3\" >Iral74</th> \n",
       "        <td id=\"T_139912c2_9386_11e9_af42_d3b7196cd018row3_col0\" class=\"data row3 col0\" >4</td> \n",
       "        <td id=\"T_139912c2_9386_11e9_af42_d3b7196cd018row3_col1\" class=\"data row3 col1\" >$3.40</td> \n",
       "        <td id=\"T_139912c2_9386_11e9_af42_d3b7196cd018row3_col2\" class=\"data row3 col2\" >$13.62</td> \n",
       "    </tr>    <tr> \n",
       "        <th id=\"T_139912c2_9386_11e9_af42_d3b7196cd018level0_row4\" class=\"row_heading level0 row4\" >Iskadarya95</th> \n",
       "        <td id=\"T_139912c2_9386_11e9_af42_d3b7196cd018row4_col0\" class=\"data row4 col0\" >3</td> \n",
       "        <td id=\"T_139912c2_9386_11e9_af42_d3b7196cd018row4_col1\" class=\"data row4 col1\" >$4.37</td> \n",
       "        <td id=\"T_139912c2_9386_11e9_af42_d3b7196cd018row4_col2\" class=\"data row4 col2\" >$13.10</td> \n",
       "    </tr></tbody> \n",
       "</table> "
      ],
      "text/plain": [
       "<pandas.io.formats.style.Styler at 0x13ac3ff6080>"
      ]
     },
     "execution_count": 13,
     "metadata": {},
     "output_type": "execute_result"
    }
   ],
   "source": [
    "# groupby SN\n",
    "spender = purchase_data.groupby(\"SN\")\n",
    "\n",
    "# calculations\n",
    "count_spender = spender[\"Purchase ID\"].count()\n",
    "avg_pp_spender = spender[\"Price\"].mean()\n",
    "total_spender = spender[\"Price\"].sum()\n",
    "\n",
    "# new df\n",
    "top_spenders = pd.DataFrame({\"Purchase Count\": count_spender,\n",
    "                             \"Average Purchase Price\": avg_pp_spender,\n",
    "                             \"Total Purchase Value\":total_spender})\n",
    "\n",
    "# sort in descending order \n",
    "desc_spender = top_spenders.sort_values([\"Total Purchase Value\"], ascending=False).head()\n",
    "\n",
    "#format for $\n",
    "desc_spender.style.format({\"Average Purchase Total\":\"${:,.2f}\",\n",
    "                                 \"Average Purchase Price\":\"${:,.2f}\", \n",
    "                                 \"Total Purchase Value\":\"${:,.2f}\"})"
   ]
  },
  {
   "cell_type": "markdown",
   "metadata": {},
   "source": [
    "## Most Popular Items"
   ]
  },
  {
   "cell_type": "markdown",
   "metadata": {},
   "source": [
    "* Retrieve the Item ID, Item Name, and Item Price columns\n",
    "\n",
    "\n",
    "* Group by Item ID and Item Name. Perform calculations to obtain purchase count, item price, and total purchase value\n",
    "\n",
    "\n",
    "* Create a summary data frame to hold the results\n",
    "\n",
    "\n",
    "* Sort the purchase count column in descending order\n",
    "\n",
    "\n",
    "* Optional: give the displayed data cleaner formatting\n",
    "\n",
    "\n",
    "* Display a preview of the summary data frame\n",
    "\n"
   ]
  },
  {
   "cell_type": "code",
   "execution_count": 10,
   "metadata": {},
   "outputs": [
    {
     "data": {
      "text/html": [
       "<style  type=\"text/css\" >\n",
       "</style>  \n",
       "<table id=\"T_56f85052_9384_11e9_83b9_d3b7196cd018\" > \n",
       "<thead>    <tr> \n",
       "        <th class=\"blank\" ></th> \n",
       "        <th class=\"blank level0\" ></th> \n",
       "        <th class=\"col_heading level0 col0\" >Purchase Count</th> \n",
       "        <th class=\"col_heading level0 col1\" >Item Price</th> \n",
       "        <th class=\"col_heading level0 col2\" >Total Purchase Value</th> \n",
       "    </tr>    <tr> \n",
       "        <th class=\"index_name level0\" >Item ID</th> \n",
       "        <th class=\"index_name level1\" >Item Name</th> \n",
       "        <th class=\"blank\" ></th> \n",
       "        <th class=\"blank\" ></th> \n",
       "        <th class=\"blank\" ></th> \n",
       "    </tr></thead> \n",
       "<tbody>    <tr> \n",
       "        <th id=\"T_56f85052_9384_11e9_83b9_d3b7196cd018level0_row0\" class=\"row_heading level0 row0\" >178</th> \n",
       "        <th id=\"T_56f85052_9384_11e9_83b9_d3b7196cd018level1_row0\" class=\"row_heading level1 row0\" >Oathbreaker, Last Hope of the Breaking Storm</th> \n",
       "        <td id=\"T_56f85052_9384_11e9_83b9_d3b7196cd018row0_col0\" class=\"data row0 col0\" >12</td> \n",
       "        <td id=\"T_56f85052_9384_11e9_83b9_d3b7196cd018row0_col1\" class=\"data row0 col1\" >$4.23</td> \n",
       "        <td id=\"T_56f85052_9384_11e9_83b9_d3b7196cd018row0_col2\" class=\"data row0 col2\" >$50.76</td> \n",
       "    </tr>    <tr> \n",
       "        <th id=\"T_56f85052_9384_11e9_83b9_d3b7196cd018level0_row1\" class=\"row_heading level0 row1\" >145</th> \n",
       "        <th id=\"T_56f85052_9384_11e9_83b9_d3b7196cd018level1_row1\" class=\"row_heading level1 row1\" >Fiery Glass Crusader</th> \n",
       "        <td id=\"T_56f85052_9384_11e9_83b9_d3b7196cd018row1_col0\" class=\"data row1 col0\" >9</td> \n",
       "        <td id=\"T_56f85052_9384_11e9_83b9_d3b7196cd018row1_col1\" class=\"data row1 col1\" >$4.58</td> \n",
       "        <td id=\"T_56f85052_9384_11e9_83b9_d3b7196cd018row1_col2\" class=\"data row1 col2\" >$41.22</td> \n",
       "    </tr>    <tr> \n",
       "        <th id=\"T_56f85052_9384_11e9_83b9_d3b7196cd018level0_row2\" class=\"row_heading level0 row2\" >108</th> \n",
       "        <th id=\"T_56f85052_9384_11e9_83b9_d3b7196cd018level1_row2\" class=\"row_heading level1 row2\" >Extraction, Quickblade Of Trembling Hands</th> \n",
       "        <td id=\"T_56f85052_9384_11e9_83b9_d3b7196cd018row2_col0\" class=\"data row2 col0\" >9</td> \n",
       "        <td id=\"T_56f85052_9384_11e9_83b9_d3b7196cd018row2_col1\" class=\"data row2 col1\" >$3.53</td> \n",
       "        <td id=\"T_56f85052_9384_11e9_83b9_d3b7196cd018row2_col2\" class=\"data row2 col2\" >$31.77</td> \n",
       "    </tr>    <tr> \n",
       "        <th id=\"T_56f85052_9384_11e9_83b9_d3b7196cd018level0_row3\" class=\"row_heading level0 row3\" >82</th> \n",
       "        <th id=\"T_56f85052_9384_11e9_83b9_d3b7196cd018level1_row3\" class=\"row_heading level1 row3\" >Nirvana</th> \n",
       "        <td id=\"T_56f85052_9384_11e9_83b9_d3b7196cd018row3_col0\" class=\"data row3 col0\" >9</td> \n",
       "        <td id=\"T_56f85052_9384_11e9_83b9_d3b7196cd018row3_col1\" class=\"data row3 col1\" >$4.90</td> \n",
       "        <td id=\"T_56f85052_9384_11e9_83b9_d3b7196cd018row3_col2\" class=\"data row3 col2\" >$44.10</td> \n",
       "    </tr>    <tr> \n",
       "        <th id=\"T_56f85052_9384_11e9_83b9_d3b7196cd018level0_row4\" class=\"row_heading level0 row4\" >19</th> \n",
       "        <th id=\"T_56f85052_9384_11e9_83b9_d3b7196cd018level1_row4\" class=\"row_heading level1 row4\" >Pursuit, Cudgel of Necromancy</th> \n",
       "        <td id=\"T_56f85052_9384_11e9_83b9_d3b7196cd018row4_col0\" class=\"data row4 col0\" >8</td> \n",
       "        <td id=\"T_56f85052_9384_11e9_83b9_d3b7196cd018row4_col1\" class=\"data row4 col1\" >$1.02</td> \n",
       "        <td id=\"T_56f85052_9384_11e9_83b9_d3b7196cd018row4_col2\" class=\"data row4 col2\" >$8.16</td> \n",
       "    </tr></tbody> \n",
       "</table> "
      ],
      "text/plain": [
       "<pandas.io.formats.style.Styler at 0x13ac4e1b3c8>"
      ]
     },
     "execution_count": 10,
     "metadata": {},
     "output_type": "execute_result"
    }
   ],
   "source": [
    "# new df \n",
    "items = purchase_data[[\"Item ID\", \"Item Name\", \"Price\"]]\n",
    "\n",
    "#group by by item id and item name \n",
    "item_grp = items.groupby([\"Item ID\",\"Item Name\"])\n",
    "\n",
    "# calculations\n",
    "count_item = item_grp[\"Price\"].count()\n",
    "purchase_val = (item_grp[\"Price\"].sum()) \n",
    "item_price = purchase_val/count_item\n",
    "\n",
    "# new df\n",
    "most_pop_items = pd.DataFrame({\"Purchase Count\": count_item, \n",
    "                                   \"Item Price\": item_price,\n",
    "                                   \"Total Purchase Value\":purchase_val})\n",
    "\n",
    "# Sort in descending order to obtain top spender names and provide top 5 item names\n",
    "popular_desc = most_pop_items.sort_values([\"Purchase Count\"], ascending=False).head()\n",
    "\n",
    "# Format with currency style\n",
    "popular_desc.style.format({\"Item Price\":\"${:,.2f}\",\n",
    "                                \"Total Purchase Value\":\"${:,.2f}\"})"
   ]
  },
  {
   "cell_type": "markdown",
   "metadata": {},
   "source": [
    "## Most Profitable Items"
   ]
  },
  {
   "cell_type": "markdown",
   "metadata": {},
   "source": [
    "* Sort the above table by total purchase value in descending order\n",
    "\n",
    "\n",
    "* Optional: give the displayed data cleaner formatting\n",
    "\n",
    "\n",
    "* Display a preview of the data frame\n",
    "\n"
   ]
  },
  {
   "cell_type": "code",
   "execution_count": 12,
   "metadata": {
    "scrolled": true
   },
   "outputs": [
    {
     "data": {
      "text/html": [
       "<style  type=\"text/css\" >\n",
       "</style>  \n",
       "<table id=\"T_5c4d0ef6_9384_11e9_b662_d3b7196cd018\" > \n",
       "<thead>    <tr> \n",
       "        <th class=\"blank\" ></th> \n",
       "        <th class=\"blank level0\" ></th> \n",
       "        <th class=\"col_heading level0 col0\" >Purchase Count</th> \n",
       "        <th class=\"col_heading level0 col1\" >Item Price</th> \n",
       "        <th class=\"col_heading level0 col2\" >Total Purchase Value</th> \n",
       "    </tr>    <tr> \n",
       "        <th class=\"index_name level0\" >Item ID</th> \n",
       "        <th class=\"index_name level1\" >Item Name</th> \n",
       "        <th class=\"blank\" ></th> \n",
       "        <th class=\"blank\" ></th> \n",
       "        <th class=\"blank\" ></th> \n",
       "    </tr></thead> \n",
       "<tbody>    <tr> \n",
       "        <th id=\"T_5c4d0ef6_9384_11e9_b662_d3b7196cd018level0_row0\" class=\"row_heading level0 row0\" >178</th> \n",
       "        <th id=\"T_5c4d0ef6_9384_11e9_b662_d3b7196cd018level1_row0\" class=\"row_heading level1 row0\" >Oathbreaker, Last Hope of the Breaking Storm</th> \n",
       "        <td id=\"T_5c4d0ef6_9384_11e9_b662_d3b7196cd018row0_col0\" class=\"data row0 col0\" >12</td> \n",
       "        <td id=\"T_5c4d0ef6_9384_11e9_b662_d3b7196cd018row0_col1\" class=\"data row0 col1\" >$4.23</td> \n",
       "        <td id=\"T_5c4d0ef6_9384_11e9_b662_d3b7196cd018row0_col2\" class=\"data row0 col2\" >$50.76</td> \n",
       "    </tr>    <tr> \n",
       "        <th id=\"T_5c4d0ef6_9384_11e9_b662_d3b7196cd018level0_row1\" class=\"row_heading level0 row1\" >82</th> \n",
       "        <th id=\"T_5c4d0ef6_9384_11e9_b662_d3b7196cd018level1_row1\" class=\"row_heading level1 row1\" >Nirvana</th> \n",
       "        <td id=\"T_5c4d0ef6_9384_11e9_b662_d3b7196cd018row1_col0\" class=\"data row1 col0\" >9</td> \n",
       "        <td id=\"T_5c4d0ef6_9384_11e9_b662_d3b7196cd018row1_col1\" class=\"data row1 col1\" >$4.90</td> \n",
       "        <td id=\"T_5c4d0ef6_9384_11e9_b662_d3b7196cd018row1_col2\" class=\"data row1 col2\" >$44.10</td> \n",
       "    </tr>    <tr> \n",
       "        <th id=\"T_5c4d0ef6_9384_11e9_b662_d3b7196cd018level0_row2\" class=\"row_heading level0 row2\" >145</th> \n",
       "        <th id=\"T_5c4d0ef6_9384_11e9_b662_d3b7196cd018level1_row2\" class=\"row_heading level1 row2\" >Fiery Glass Crusader</th> \n",
       "        <td id=\"T_5c4d0ef6_9384_11e9_b662_d3b7196cd018row2_col0\" class=\"data row2 col0\" >9</td> \n",
       "        <td id=\"T_5c4d0ef6_9384_11e9_b662_d3b7196cd018row2_col1\" class=\"data row2 col1\" >$4.58</td> \n",
       "        <td id=\"T_5c4d0ef6_9384_11e9_b662_d3b7196cd018row2_col2\" class=\"data row2 col2\" >$41.22</td> \n",
       "    </tr>    <tr> \n",
       "        <th id=\"T_5c4d0ef6_9384_11e9_b662_d3b7196cd018level0_row3\" class=\"row_heading level0 row3\" >92</th> \n",
       "        <th id=\"T_5c4d0ef6_9384_11e9_b662_d3b7196cd018level1_row3\" class=\"row_heading level1 row3\" >Final Critic</th> \n",
       "        <td id=\"T_5c4d0ef6_9384_11e9_b662_d3b7196cd018row3_col0\" class=\"data row3 col0\" >8</td> \n",
       "        <td id=\"T_5c4d0ef6_9384_11e9_b662_d3b7196cd018row3_col1\" class=\"data row3 col1\" >$4.88</td> \n",
       "        <td id=\"T_5c4d0ef6_9384_11e9_b662_d3b7196cd018row3_col2\" class=\"data row3 col2\" >$39.04</td> \n",
       "    </tr>    <tr> \n",
       "        <th id=\"T_5c4d0ef6_9384_11e9_b662_d3b7196cd018level0_row4\" class=\"row_heading level0 row4\" >103</th> \n",
       "        <th id=\"T_5c4d0ef6_9384_11e9_b662_d3b7196cd018level1_row4\" class=\"row_heading level1 row4\" >Singed Scalpel</th> \n",
       "        <td id=\"T_5c4d0ef6_9384_11e9_b662_d3b7196cd018row4_col0\" class=\"data row4 col0\" >8</td> \n",
       "        <td id=\"T_5c4d0ef6_9384_11e9_b662_d3b7196cd018row4_col1\" class=\"data row4 col1\" >$4.35</td> \n",
       "        <td id=\"T_5c4d0ef6_9384_11e9_b662_d3b7196cd018row4_col2\" class=\"data row4 col2\" >$34.80</td> \n",
       "    </tr></tbody> \n",
       "</table> "
      ],
      "text/plain": [
       "<pandas.io.formats.style.Styler at 0x13ac4d99358>"
      ]
     },
     "execution_count": 12,
     "metadata": {},
     "output_type": "execute_result"
    }
   ],
   "source": [
    "# sort previous df in descinding purchase value\n",
    "popular_desc = most_pop_items.sort_values([\"Total Purchase Value\"],\n",
    "                                                   ascending=False).head()\n",
    "# format for $ \n",
    "popular_desc.style.format({\"Item Price\":\"${:,.2f}\",\n",
    "                                \"Total Purchase Value\":\"${:,.2f}\"})"
   ]
  },
  {
   "cell_type": "code",
   "execution_count": null,
   "metadata": {},
   "outputs": [],
   "source": []
  }
 ],
 "metadata": {
  "anaconda-cloud": {},
  "kernel_info": {
   "name": "python3"
  },
  "kernelspec": {
   "display_name": "Python 3",
   "language": "python",
   "name": "python3"
  },
  "language_info": {
   "codemirror_mode": {
    "name": "ipython",
    "version": 3
   },
   "file_extension": ".py",
   "mimetype": "text/x-python",
   "name": "python",
   "nbconvert_exporter": "python",
   "pygments_lexer": "ipython3",
   "version": "3.7.1"
  },
  "nteract": {
   "version": "0.2.0"
  }
 },
 "nbformat": 4,
 "nbformat_minor": 2
}
